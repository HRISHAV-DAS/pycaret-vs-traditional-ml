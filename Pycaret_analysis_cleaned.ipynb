{
 "cells": [
  {
   "cell_type": "code",
   "execution_count": null,
   "metadata": {
    "id": "RRAlMrqS4zSb"
   },
   "outputs": [],
   "source": [
    "!pip install pycaret > /dev/null 2>&1"
   ]
  },
  {
   "cell_type": "code",
   "execution_count": null,
   "metadata": {
    "colab": {
     "base_uri": "https://localhost:8080/",
     "height": 755
    },
    "executionInfo": {
     "elapsed": 32382,
     "status": "ok",
     "timestamp": 1749917321391,
     "user": {
      "displayName": "Rupankar Halder",
      "userId": "00436957596445229804"
     },
     "user_tz": -330
    },
    "id": "aWkwGLE7-UNU",
    "outputId": "56df1240-cd45-4d30-aea1-bc3ccd6733e1"
   },
   "outputs": [],
   "source": [
    "!pip install --upgrade numpy==1.24.3 pandas==2.0.3"
   ]
  },
  {
   "cell_type": "code",
   "execution_count": null,
   "metadata": {
    "id": "WdhgVOJYhR_x"
   },
   "outputs": [],
   "source": [
    "import pandas as pd"
   ]
  },
  {
   "cell_type": "code",
   "execution_count": null,
   "metadata": {
    "colab": {
     "base_uri": "https://localhost:8080/",
     "height": 1000,
     "referenced_widgets": [
      "1bc1e8934d7c40daa1d253de808d9683",
      "87abac45270f409186296d9213e4a416",
      "05b6ccf729d549af97cb7d35470173e7",
      "4c53a9ac2fc24eaa81322af3e5325183",
      "f2b002d842644b11a33be434bb9b3825",
      "704ebc4c02444f2d9e8836d8a2e03dc2",
      "bce90d1cbc9043c69bc4627276e7c598",
      "d6347e657abd4aa8bc7117a8d85f25dd",
      "ed815595fe2d41028760a934ee6c006f",
      "b97571689e464d1fa5a4093ecfcc80a0",
      "5d823882dd23432390e05f27c07acdc8"
     ]
    },
    "executionInfo": {
     "elapsed": 91620,
     "status": "ok",
     "timestamp": 1745057523213,
     "user": {
      "displayName": "HRISHAV DAS",
      "userId": "17793903672066299759"
     },
     "user_tz": -330
    },
    "id": "Mlo8HU9m-qnJ",
    "outputId": "b174a9b5-0d74-4271-f7c0-cd064f7d82ee"
   },
   "outputs": [],
   "source": [
    "#import pandas as pd\n",
    "from pycaret.classification import *\n",
    "\n",
    "data = pd.read_csv('realistic_high_accuracy_sentiment_dataset.csv')\n",
    "\n",
    "clf = setup(\n",
    "    data,\n",
    "    target='sentiment',\n",
    "    text_features=['review_text'],\n",
    "    train_size=0.8,\n",
    "    session_id=42,\n",
    "    # fix_imbalance=True\n",
    "    # preprocess=False\n",
    "    # fold=10,                             # 10-Fold Cross-Validation\n",
    "    # use_gpu=True,                         # Use GPU if available\n",
    "    # #silent=True,                         # Avoid confirmation prompts\n",
    "    # verbose=True\n",
    ")\n",
    "\n",
    "# Train a model\n",
    "best_model = compare_models()"
   ]
  },
  {
   "cell_type": "code",
   "execution_count": null,
   "metadata": {
    "colab": {
     "base_uri": "https://localhost:8080/",
     "height": 1000,
     "referenced_widgets": [
      "054b8ae79a1d4705b241e91d72da7e14",
      "faf16be94f4e4f30b0a891d99c578cea",
      "4612f5d254124a149d1f65f33c5d3370",
      "6b2f2b2fa8db4bad98849d2d4278b5b5",
      "f0368b6ba793499984fdd309f1942841",
      "fb0e6c798b1f4f73ae7f89a2bf292f43",
      "3df4e3384048422786508033884095a6"
     ]
    },
    "executionInfo": {
     "elapsed": 4596,
     "status": "ok",
     "timestamp": 1745057975411,
     "user": {
      "displayName": "HRISHAV DAS",
      "userId": "17793903672066299759"
     },
     "user_tz": -330
    },
    "id": "s7ataXCJGXvP",
    "outputId": "c41a153d-ee6f-4c4d-c264-8fb7c3413bbc"
   },
   "outputs": [],
   "source": [
    "# Step 6: Evaluate best model\n",
    "evaluate_model(best_model)\n",
    "\n",
    "# Step 7: Plot ROC Curve\n",
    "plot_model(best_model, plot='auc')\n",
    "\n",
    "# Step 8: Plot Confusion Matrix\n",
    "plot_model(best_model, plot='confusion_matrix')"
   ]
  },
  {
   "cell_type": "code",
   "execution_count": null,
   "metadata": {
    "colab": {
     "base_uri": "https://localhost:8080/",
     "height": 524
    },
    "executionInfo": {
     "elapsed": 1782,
     "status": "ok",
     "timestamp": 1745058174186,
     "user": {
      "displayName": "HRISHAV DAS",
      "userId": "17793903672066299759"
     },
     "user_tz": -330
    },
    "id": "qyVbKUCzMk_D",
    "outputId": "0bd8525e-4fb9-467f-b4da-c1b6aca336ba"
   },
   "outputs": [],
   "source": [
    "# Plot Precision-Recall curve\n",
    "plot_model(best_model, plot='pr')\n"
   ]
  },
  {
   "cell_type": "code",
   "execution_count": null,
   "metadata": {
    "colab": {
     "base_uri": "https://localhost:8080/",
     "height": 562
    },
    "executionInfo": {
     "elapsed": 2353,
     "status": "ok",
     "timestamp": 1745058180518,
     "user": {
      "displayName": "HRISHAV DAS",
      "userId": "17793903672066299759"
     },
     "user_tz": -330
    },
    "id": "0DTHuApONHbr",
    "outputId": "7fb21f7f-9aa7-42f5-c3b5-ea40ae26541b"
   },
   "outputs": [],
   "source": [
    "import pandas as pd\n",
    "import matplotlib.pyplot as plt\n",
    "import seaborn as sns\n",
    "\n",
    "# Assuming df is the DataFrame containing the dataset\n",
    "df = pd.read_csv('realistic_high_accuracy_sentiment_dataset.csv')\n",
    "\n",
    "# Create a new feature 'review_length' as the length of the review text\n",
    "df['review_length'] = df['review_text'].apply(len)\n",
    "\n",
    "# Scatter plot: 'rating' vs 'review_length'\n",
    "plt.figure(figsize=(8, 6))\n",
    "sns.scatterplot(x='rating', y='review_length', data=df, hue='sentiment', palette='coolwarm')\n",
    "plt.title('Rating vs Review Length (Colored by Sentiment)')\n",
    "plt.xlabel('Rating')\n",
    "plt.ylabel('Review Length')\n",
    "plt.show()\n"
   ]
  },
  {
   "cell_type": "code",
   "execution_count": null,
   "metadata": {
    "colab": {
     "base_uri": "https://localhost:8080/",
     "height": 562
    },
    "executionInfo": {
     "elapsed": 1147,
     "status": "ok",
     "timestamp": 1745058189027,
     "user": {
      "displayName": "HRISHAV DAS",
      "userId": "17793903672066299759"
     },
     "user_tz": -330
    },
    "id": "83VTMs9yPTRF",
    "outputId": "d1f6a7f4-6d4a-4b60-9f8d-e9e909f86796"
   },
   "outputs": [],
   "source": [
    "# Scatter plot: 'rating' vs 'sentiment' (target variable)\n",
    "plt.figure(figsize=(8, 6))\n",
    "sns.scatterplot(x='rating', y='sentiment', data=df, hue='sentiment', palette='coolwarm')\n",
    "plt.title('Rating vs Sentiment')\n",
    "plt.xlabel('Rating')\n",
    "plt.ylabel('Sentiment')\n",
    "plt.show()\n"
   ]
  },
  {
   "cell_type": "code",
   "execution_count": null,
   "metadata": {
    "colab": {
     "base_uri": "https://localhost:8080/",
     "height": 1000
    },
    "executionInfo": {
     "elapsed": 8531,
     "status": "ok",
     "timestamp": 1745052299324,
     "user": {
      "displayName": "HRISHAV DAS",
      "userId": "17793903672066299759"
     },
     "user_tz": -330
    },
    "id": "62gWRkYBOL0v",
    "outputId": "54ff1d99-1129-4afd-a9ed-6f201056613f"
   },
   "outputs": [],
   "source": [
    "# Plot ROC Curve using 'auc'\n",
    "plot_model(best_model, plot='auc')\n",
    "\n",
    "# Plot Confusion Matrix\n",
    "plot_model(best_model, plot='confusion_matrix')\n",
    "\n",
    "# Plot Precision-Recall Curve\n",
    "plot_model(best_model, plot='pr')\n",
    "\n",
    "# Plot Learning Curve\n",
    "plot_model(best_model, plot='learning')\n",
    "\n",
    "# Plot Feature Importance\n",
    "plot_model(best_model, plot='feature')"
   ]
  },
  {
   "cell_type": "code",
   "execution_count": null,
   "metadata": {
    "colab": {
     "base_uri": "https://localhost:8080/",
     "height": 940
    },
    "executionInfo": {
     "elapsed": 11533,
     "status": "ok",
     "timestamp": 1745058215640,
     "user": {
      "displayName": "HRISHAV DAS",
      "userId": "17793903672066299759"
     },
     "user_tz": -330
    },
    "id": "m6fU9C9jkvfj",
    "outputId": "3455bd04-6c67-4051-968f-8dc22c534425"
   },
   "outputs": [],
   "source": [
    "#4. Learning Curve\n",
    "plot_model(best_model, plot='learning')\n",
    "\n",
    "#5. Feature Importance (useful for tabular datasets)\n",
    "plot_model(best_model, plot='feature')"
   ]
  },
  {
   "cell_type": "code",
   "execution_count": null,
   "metadata": {
    "colab": {
     "base_uri": "https://localhost:8080/",
     "height": 562
    },
    "executionInfo": {
     "elapsed": 8646,
     "status": "ok",
     "timestamp": 1745058583510,
     "user": {
      "displayName": "HRISHAV DAS",
      "userId": "17793903672066299759"
     },
     "user_tz": -330
    },
    "id": "JBNuNKiVmKOV",
    "outputId": "35f64477-3428-48d8-e73f-d343956872af"
   },
   "outputs": [],
   "source": [
    "import pandas as pd\n",
    "from pycaret.classification import *\n",
    "from sklearn.decomposition import PCA\n",
    "import matplotlib.pyplot as plt\n",
    "import seaborn as sns\n",
    "\n",
    "# Assuming you've already trained your model\n",
    "# setup(...) and best_model = compare_models() is done\n",
    "\n",
    "# Get final data and target used inside PyCaret\n",
    "X = get_config('X')\n",
    "y = get_config('y')\n",
    "\n",
    "# Convert categorical features to numerical using one-hot encoding\n",
    "X = pd.get_dummies(X, columns=X.select_dtypes(include=['object', 'category']).columns)\n",
    "# Select object and categorical columns for one-hot encoding\n",
    "\n",
    "# Reduce dimensions to 2D using PCA\n",
    "pca = PCA(n_components=2)\n",
    "X_pca = pca.fit_transform(X)\n",
    "\n",
    "# Create a scatter dataframe\n",
    "scatter_df = pd.DataFrame(X_pca, columns=['PC1', 'PC2'])\n",
    "scatter_df['Sentiment'] = y.values\n",
    "\n",
    "# Plot scatter plot\n",
    "plt.figure(figsize=(8, 6))\n",
    "sns.scatterplot(data=scatter_df, x='PC1', y='PC2', hue='Sentiment', s=100, palette='Set2')\n",
    "plt.title('2D PCA Scatter Plot of Sentiment Classes')\n",
    "plt.xlabel('Principal Component 1')\n",
    "plt.ylabel('Principal Component 2')\n",
    "plt.grid(True)\n",
    "plt.show()"
   ]
  },
  {
   "cell_type": "code",
   "execution_count": null,
   "metadata": {
    "colab": {
     "base_uri": "https://localhost:8080/",
     "height": 459
    },
    "executionInfo": {
     "elapsed": 594,
     "status": "error",
     "timestamp": 1745058691795,
     "user": {
      "displayName": "HRISHAV DAS",
      "userId": "17793903672066299759"
     },
     "user_tz": -330
    },
    "id": "m9cGVXaTmj45",
    "outputId": "0023ed50-f486-44df-d160-5c4bedfebb33"
   },
   "outputs": [],
   "source": [
    "from sklearn.decomposition import PCA\n",
    "import matplotlib.pyplot as plt\n",
    "import seaborn as sns\n",
    "\n",
    "X = get_config('X')\n",
    "y = get_config('y')\n",
    "\n",
    "pca = PCA(n_components=2)\n",
    "X_pca = pca.fit_transform(X)\n",
    "\n",
    "scatter_df = pd.DataFrame(X_pca, columns=['PC1', 'PC2'])\n",
    "scatter_df['Label'] = y.values\n",
    "\n",
    "plt.figure(figsize=(8, 6))\n",
    "sns.scatterplot(data=scatter_df, x='PC1', y='PC2', hue='Label', palette='Set1', s=80)\n",
    "plt.title('PCA Scatter Plot of Classes')\n",
    "plt.grid(True)\n",
    "plt.show()\n"
   ]
  },
  {
   "cell_type": "code",
   "execution_count": null,
   "metadata": {
    "colab": {
     "base_uri": "https://localhost:8080/",
     "height": 562
    },
    "executionInfo": {
     "elapsed": 7692,
     "status": "ok",
     "timestamp": 1745058741783,
     "user": {
      "displayName": "HRISHAV DAS",
      "userId": "17793903672066299759"
     },
     "user_tz": -330
    },
    "id": "uhwhbds-mw1Y",
    "outputId": "9d22f2e7-af03-4eff-b701-1ab74b21cc33"
   },
   "outputs": [],
   "source": [
    "from sklearn.decomposition import PCA\n",
    "import matplotlib.pyplot as plt\n",
    "import seaborn as sns\n",
    "import pandas as pd\n",
    "from pycaret.classification import *\n",
    "\n",
    "X = get_config('X')\n",
    "y = get_config('y')\n",
    "\n",
    "# Convert categorical features to numerical using one-hot encoding\n",
    "X = pd.get_dummies(X, columns=X.select_dtypes(include=['object', 'category']).columns)\n",
    "# Select object and categorical columns for one-hot encoding\n",
    "\n",
    "\n",
    "pca = PCA(n_components=2)\n",
    "X_pca = pca.fit_transform(X)\n",
    "\n",
    "scatter_df = pd.DataFrame(X_pca, columns=['PC1', 'PC2'])\n",
    "scatter_df['Label'] = y.values\n",
    "\n",
    "plt.figure(figsize=(8, 6))\n",
    "sns.scatterplot(data=scatter_df, x='PC1', y='PC2', hue='Label', palette='Set1', s=80)\n",
    "plt.title('PCA Scatter Plot of Classes')\n",
    "plt.grid(True)\n",
    "plt.show()"
   ]
  },
  {
   "cell_type": "code",
   "execution_count": null,
   "metadata": {
    "colab": {
     "base_uri": "https://localhost:8080/",
     "height": 423
    },
    "executionInfo": {
     "elapsed": 717,
     "status": "error",
     "timestamp": 1745058774027,
     "user": {
      "displayName": "HRISHAV DAS",
      "userId": "17793903672066299759"
     },
     "user_tz": -330
    },
    "id": "D4BN3FQwm22y",
    "outputId": "d0a5bf0e-aa20-41f4-db66-98d2694b9bb0"
   },
   "outputs": [],
   "source": [
    "plot_model(best_model, plot='roc', save=True)\n",
    "plot_model(best_model, plot='confusion_matrix', save=True)\n",
    "plot_model(best_model, plot='pr', save=True)\n",
    "plot_model(best_model, plot='learning', save=True)\n",
    "plot_model(best_model, plot='error', save=True)\n"
   ]
  },
  {
   "cell_type": "code",
   "execution_count": null,
   "metadata": {
    "colab": {
     "base_uri": "https://localhost:8080/",
     "height": 513
    },
    "executionInfo": {
     "elapsed": 159394,
     "status": "ok",
     "timestamp": 1745058980116,
     "user": {
      "displayName": "HRISHAV DAS",
      "userId": "17793903672066299759"
     },
     "user_tz": -330
    },
    "id": "qQvDFy7YnGKq",
    "outputId": "35b0a716-e745-4d02-c5bb-d27db3f13d17"
   },
   "outputs": [],
   "source": [
    "plot_model(best_model, plot='confusion_matrix', save=True)\n",
    "plot_model(best_model, plot='pr', save=True)  # Precision-Recall curve\n",
    "plot_model(best_model, plot='learning', save=True) # Learning Curve\n",
    "plot_model(best_model, plot='feature', save=True) # Feature importance for text features\n",
    "plot_model(best_model, plot='class_report', save=True) # Classification report\n",
    "plot_model(best_model, plot='boundary', save=True) # Decision boundary (for 2D or 3D data)\n",
    "plot_model(best_model, plot='calibration', save=True) # Calibration curve\n",
    "plot_model(best_model, plot='vc', save=True) # Validation curve\n",
    "plot_model(best_model, plot='error', save=True) # Error plot\n",
    "plot_model(best_model, plot='manifold', save=True) # Manifold learning plot\n",
    "plot_model(best_model, plot='parameter', save=True) # Hyperparameter tuning plot\n",
    "plot_model(best_model, plot='lift', save=True) # Lift curve\n",
    "plot_model(best_model, plot='gain', save=True) # Gain curve\n",
    "plot_model(best_model, plot='ks', save=True) # KS statistic plot"
   ]
  }
 ],
 "metadata": {
  "colab": {
   "provenance": [],
   "toc_visible": true
  },
  "kernelspec": {
   "display_name": "Python 3",
   "name": "python3"
  },
  "language_info": {
   "name": "python"
  }
 },
 "nbformat": 4,
 "nbformat_minor": 0
}
